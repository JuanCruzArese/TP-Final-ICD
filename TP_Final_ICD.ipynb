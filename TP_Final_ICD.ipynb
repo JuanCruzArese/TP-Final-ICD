{
  "nbformat": 4,
  "nbformat_minor": 0,
  "metadata": {
    "colab": {
      "provenance": [],
      "include_colab_link": true
    },
    "kernelspec": {
      "name": "python3",
      "display_name": "Python 3"
    },
    "language_info": {
      "name": "python"
    }
  },
  "cells": [
    {
      "cell_type": "markdown",
      "metadata": {
        "id": "view-in-github",
        "colab_type": "text"
      },
      "source": [
        "<a href=\"https://colab.research.google.com/github/JuanCruzArese/TP-Final-ICD/blob/laburen-aca/TP_Final_ICD.ipynb\" target=\"_parent\"><img src=\"https://colab.research.google.com/assets/colab-badge.svg\" alt=\"Open In Colab\"/></a>"
      ]
    },
    {
      "cell_type": "code",
      "execution_count": null,
      "metadata": {
        "id": "dNjlI4mpbbpl"
      },
      "outputs": [],
      "source": [
        "!git clone https://github.com/JuanCruzArese/TP-Final-ICD\n",
        "%cd TP-Final-ICD"
      ]
    },
    {
      "cell_type": "markdown",
      "source": [
        "## Importar librerias"
      ],
      "metadata": {
        "id": "z5XCFwmXryZa"
      }
    },
    {
      "cell_type": "code",
      "source": [
        "import pandas as pd # Para manejo de DataFrames\n",
        "import numpy as np\n",
        "import matplotlib.pyplot as plt # Para control de figuras\n",
        "import seaborn as sns # Para visualizaciones (boxplot, heatmap)\n",
        "\n",
        "from sklearn.model_selection import train_test_split, GridSearchCV # Para dividir datos en train/test y busqueda de grilla.\n",
        "from sklearn.preprocessing import StandardScaler\n",
        "from sklearn.preprocessing import RobustScaler # Para escalado robusto\n",
        "from sklearn.impute import SimpleImputer\n",
        "from sklearn.linear_model import LogisticRegression # Modelo Regresión Logística\n",
        "from sklearn.ensemble import RandomForestClassifier # Modelo Random Forest\n",
        "from sklearn.tree import DecisionTreeClassifier\n",
        "from sklearn.metrics import (                          # Métricas de evaluación\n",
        "    accuracy_score, precision_score, recall_score,\n",
        "    roc_auc_score, confusion_matrix, f1_score, classification_report, ConfusionMatrixDisplay,\n",
        "                                                       roc_curve, auc\n",
        ")\n",
        "from sklearn.feature_selection import SelectKBest, f_classif # Selector y criterio ANOVA F, respectivamente."
      ],
      "metadata": {
        "id": "QLNhQYF9eSs7"
      },
      "execution_count": null,
      "outputs": []
    },
    {
      "cell_type": "markdown",
      "source": [
        "## Importar dataset"
      ],
      "metadata": {
        "id": "PyqpWHH-pvPp"
      }
    },
    {
      "cell_type": "code",
      "source": [
        "df = pd.read_csv('/content/TP-Final-ICD/UCI_Credit_Card_TF.csv')"
      ],
      "metadata": {
        "id": "n2uK1VeYpxVD"
      },
      "execution_count": null,
      "outputs": []
    },
    {
      "cell_type": "markdown",
      "source": [
        "# **EXPLORACION Y ANALISIS DEL DATASET**"
      ],
      "metadata": {
        "id": "yezYn04wmNL-"
      }
    },
    {
      "cell_type": "markdown",
      "source": [
        "### Vistazo al dataframe"
      ],
      "metadata": {
        "id": "BPmczqxWu8_6"
      }
    },
    {
      "cell_type": "code",
      "source": [
        "df.head()"
      ],
      "metadata": {
        "id": "TR8XV-NtvAg2"
      },
      "execution_count": null,
      "outputs": []
    },
    {
      "cell_type": "markdown",
      "source": [
        "### Informacion de las columnas del dataframe (tipo de dato, entradas no nulas, etc.)"
      ],
      "metadata": {
        "id": "7z5VpaacvCOf"
      }
    },
    {
      "cell_type": "code",
      "source": [
        "df.info()"
      ],
      "metadata": {
        "id": "lEE-oloZvCex"
      },
      "execution_count": null,
      "outputs": []
    },
    {
      "cell_type": "markdown",
      "source": [
        "### Informacion estadistica del dataframe"
      ],
      "metadata": {
        "id": "GQcH71tDvIFg"
      }
    },
    {
      "cell_type": "code",
      "source": [
        "df.describe()"
      ],
      "metadata": {
        "id": "0xnvwcGbvLO7"
      },
      "execution_count": null,
      "outputs": []
    },
    {
      "cell_type": "markdown",
      "source": [
        "### Dimensiones del dataframe"
      ],
      "metadata": {
        "id": "mO3c9jDjvPck"
      }
    },
    {
      "cell_type": "code",
      "source": [
        "print(df.shape)"
      ],
      "metadata": {
        "id": "Zq-CGhXmmjiL"
      },
      "execution_count": null,
      "outputs": []
    },
    {
      "cell_type": "markdown",
      "source": [
        "### Cantidad de clientes de tarjetas de credito"
      ],
      "metadata": {
        "id": "dEiexfmiuuK9"
      }
    },
    {
      "cell_type": "code",
      "source": [
        "print(len(df))"
      ],
      "metadata": {
        "id": "UebMBEocu0ix"
      },
      "execution_count": null,
      "outputs": []
    },
    {
      "cell_type": "code",
      "source": [
        "def get_percentage(default_payment):\n",
        "  return len(df[df['default.payment.next.month'] == default_payment]) * 100 / len(df)"
      ],
      "metadata": {
        "id": "wHOQS2rJqacB"
      },
      "execution_count": null,
      "outputs": []
    },
    {
      "cell_type": "markdown",
      "source": [
        "### Porcentaje de clientes que pagaron"
      ],
      "metadata": {
        "id": "_rsrxdj4p3zp"
      }
    },
    {
      "cell_type": "code",
      "source": [
        "print(get_percentage(0))"
      ],
      "metadata": {
        "id": "npbWXZUvp8JS"
      },
      "execution_count": null,
      "outputs": []
    },
    {
      "cell_type": "markdown",
      "source": [
        "### Porcentaje de clientes que no pagaron"
      ],
      "metadata": {
        "id": "LeNTrOQhqCVF"
      }
    },
    {
      "cell_type": "code",
      "source": [
        "print(get_percentage(1))"
      ],
      "metadata": {
        "id": "6a3jcTWkqGbn"
      },
      "execution_count": null,
      "outputs": []
    },
    {
      "cell_type": "markdown",
      "source": [
        "## Visualizacion"
      ],
      "metadata": {
        "id": "-QjHid7CmskH"
      }
    },
    {
      "cell_type": "code",
      "source": [
        "# for column in df.columns:\n",
        "#   plt.hist(df[column])\n",
        "#   plt.title(column)\n",
        "#   plt.show()\n",
        "\n",
        "def plot(plot, x, y, title, ylabel):\n",
        "  plt.figure(figsize=(12, 8))\n",
        "\n",
        "  match plot:\n",
        "    case 'box':\n",
        "      sns.boxplot(data=df, x=x, y=y)\n",
        "    case 'violin':\n",
        "      sns.violinplot(data=df, x=x, y=y, inner='quartile')\n",
        "\n",
        "  plt.title(title)\n",
        "  plt.xlabel('')\n",
        "  plt.xticks([0, 1], ['cumplirá el pago', 'no cumplirá el pago'])\n",
        "  plt.ylabel(ylabel)\n",
        "\n",
        "plot('box', 'default.payment.next.month', 'LIMIT_BAL',\n",
        "     '[ DIAGRAMA DE CAJA ] Etiqueta segun el monto del credito',\n",
        "     'Credito (en millones de TWD)')\n",
        "\n",
        "plot('violin', 'default.payment.next.month', 'AGE',\n",
        "     '[ GRAFICO DE VIOLIN ] Etiqueta segun la edad',\n",
        "     'EDAD')\n",
        "\n",
        "plt.show()"
      ],
      "metadata": {
        "id": "8MD0YPijq4ck"
      },
      "execution_count": null,
      "outputs": []
    },
    {
      "cell_type": "markdown",
      "source": [
        "#**LIMPIEZA Y PREPARACION DE LOS DATOS**"
      ],
      "metadata": {
        "id": "z5YGSbfOmkZ4"
      }
    },
    {
      "cell_type": "code",
      "source": [
        "# Eliminar valores nulos\n",
        "df = df.dropna()\n",
        "\n",
        "\n",
        "# VER SI SE PUEDE REEMPLAZAR POR LA MEDIA!!!!!!!!!!!!!!!!!!!!!!!!!!!\n",
        "\n",
        "\n",
        "\n",
        "# separar columnas\n",
        "X = df.drop('default.payment.next.month', axis=1)\n",
        "y = df['default.payment.next.month']"
      ],
      "metadata": {
        "id": "eJXoTTGUmsDD"
      },
      "execution_count": null,
      "outputs": []
    }
  ]
}